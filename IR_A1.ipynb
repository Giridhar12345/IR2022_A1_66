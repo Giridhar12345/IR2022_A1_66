{
  "nbformat": 4,
  "nbformat_minor": 0,
  "metadata": {
    "colab": {
      "name": "IR_A1.ipynb",
      "provenance": [],
      "collapsed_sections": []
    },
    "kernelspec": {
      "name": "python3",
      "display_name": "Python 3"
    },
    "language_info": {
      "name": "python"
    }
  },
  "cells": [
    {
      "cell_type": "code",
      "execution_count": null,
      "metadata": {
        "id": "okg5yKykXt8y"
      },
      "outputs": [],
      "source": [
        "from zipfile import ZipFile\n",
        "\n",
        "f = '/content/Humor,Hist,Media,Food.zip'\n",
        "\n",
        "with ZipFile(f,'r') as zip:\n",
        "  zip.printdir()\n",
        "  zip.extractall()"
      ]
    },
    {
      "cell_type": "code",
      "source": [
        "import numpy as np\n",
        "import pandas as pd\n"
      ],
      "metadata": {
        "id": "4sglgJG5ZGeb"
      },
      "execution_count": 79,
      "outputs": []
    },
    {
      "cell_type": "code",
      "source": [
        "df = pd.read_csv(\"/content/Humor,Hist,Media,Food/a-team\",sep='\\t',names=[\"text\"])\n",
        "df"
      ],
      "metadata": {
        "colab": {
          "base_uri": "https://localhost:8080/",
          "height": 423
        },
        "id": "FZRLczFkZKFf",
        "outputId": "fbe3242f-b30d-4bec-af6f-7e4e92d05bfc"
      },
      "execution_count": 80,
      "outputs": [
        {
          "output_type": "execute_result",
          "data": {
            "text/html": [
              "\n",
              "  <div id=\"df-18e24c79-4194-4ec3-83f5-f2f2c8ee43f0\">\n",
              "    <div class=\"colab-df-container\">\n",
              "      <div>\n",
              "<style scoped>\n",
              "    .dataframe tbody tr th:only-of-type {\n",
              "        vertical-align: middle;\n",
              "    }\n",
              "\n",
              "    .dataframe tbody tr th {\n",
              "        vertical-align: top;\n",
              "    }\n",
              "\n",
              "    .dataframe thead th {\n",
              "        text-align: right;\n",
              "    }\n",
              "</style>\n",
              "<table border=\"1\" class=\"dataframe\">\n",
              "  <thead>\n",
              "    <tr style=\"text-align: right;\">\n",
              "      <th></th>\n",
              "      <th>text</th>\n",
              "    </tr>\n",
              "  </thead>\n",
              "  <tbody>\n",
              "    <tr>\n",
              "      <th>0</th>\n",
              "      <td>From uunet!cs.utexas.edu!usc!ucsd!ucbvax!CAE.W...</td>\n",
              "    </tr>\n",
              "    <tr>\n",
              "      <th>1</th>\n",
              "      <td>Article 23580 of rec.arts.tv:</td>\n",
              "    </tr>\n",
              "    <tr>\n",
              "      <th>2</th>\n",
              "      <td>Path: microsoft!uunet!cs.utexas.edu!usc!ucsd!u...</td>\n",
              "    </tr>\n",
              "    <tr>\n",
              "      <th>3</th>\n",
              "      <td>From: russellp@CAE.WISC.EDU</td>\n",
              "    </tr>\n",
              "    <tr>\n",
              "      <th>4</th>\n",
              "      <td>Newsgroups: rec.arts.tv</td>\n",
              "    </tr>\n",
              "    <tr>\n",
              "      <th>...</th>\n",
              "      <td>...</td>\n",
              "    </tr>\n",
              "    <tr>\n",
              "      <th>498</th>\n",
              "      <td>*************** russellp@cae.wisc.edu ********...</td>\n",
              "    </tr>\n",
              "    <tr>\n",
              "      <th>499</th>\n",
              "      <td>Russ Perry Jr   russell@uhura.cs.wisc.edu    \"...</td>\n",
              "    </tr>\n",
              "    <tr>\n",
              "      <th>500</th>\n",
              "      <td>5970 Scott St   104 S Randall Ave             ...</td>\n",
              "    </tr>\n",
              "    <tr>\n",
              "      <th>501</th>\n",
              "      <td>Omro WI 54963   Madison WI 53715         that ...</td>\n",
              "    </tr>\n",
              "    <tr>\n",
              "      <th>502</th>\n",
              "      <td>NaN</td>\n",
              "    </tr>\n",
              "  </tbody>\n",
              "</table>\n",
              "<p>503 rows × 1 columns</p>\n",
              "</div>\n",
              "      <button class=\"colab-df-convert\" onclick=\"convertToInteractive('df-18e24c79-4194-4ec3-83f5-f2f2c8ee43f0')\"\n",
              "              title=\"Convert this dataframe to an interactive table.\"\n",
              "              style=\"display:none;\">\n",
              "        \n",
              "  <svg xmlns=\"http://www.w3.org/2000/svg\" height=\"24px\"viewBox=\"0 0 24 24\"\n",
              "       width=\"24px\">\n",
              "    <path d=\"M0 0h24v24H0V0z\" fill=\"none\"/>\n",
              "    <path d=\"M18.56 5.44l.94 2.06.94-2.06 2.06-.94-2.06-.94-.94-2.06-.94 2.06-2.06.94zm-11 1L8.5 8.5l.94-2.06 2.06-.94-2.06-.94L8.5 2.5l-.94 2.06-2.06.94zm10 10l.94 2.06.94-2.06 2.06-.94-2.06-.94-.94-2.06-.94 2.06-2.06.94z\"/><path d=\"M17.41 7.96l-1.37-1.37c-.4-.4-.92-.59-1.43-.59-.52 0-1.04.2-1.43.59L10.3 9.45l-7.72 7.72c-.78.78-.78 2.05 0 2.83L4 21.41c.39.39.9.59 1.41.59.51 0 1.02-.2 1.41-.59l7.78-7.78 2.81-2.81c.8-.78.8-2.07 0-2.86zM5.41 20L4 18.59l7.72-7.72 1.47 1.35L5.41 20z\"/>\n",
              "  </svg>\n",
              "      </button>\n",
              "      \n",
              "  <style>\n",
              "    .colab-df-container {\n",
              "      display:flex;\n",
              "      flex-wrap:wrap;\n",
              "      gap: 12px;\n",
              "    }\n",
              "\n",
              "    .colab-df-convert {\n",
              "      background-color: #E8F0FE;\n",
              "      border: none;\n",
              "      border-radius: 50%;\n",
              "      cursor: pointer;\n",
              "      display: none;\n",
              "      fill: #1967D2;\n",
              "      height: 32px;\n",
              "      padding: 0 0 0 0;\n",
              "      width: 32px;\n",
              "    }\n",
              "\n",
              "    .colab-df-convert:hover {\n",
              "      background-color: #E2EBFA;\n",
              "      box-shadow: 0px 1px 2px rgba(60, 64, 67, 0.3), 0px 1px 3px 1px rgba(60, 64, 67, 0.15);\n",
              "      fill: #174EA6;\n",
              "    }\n",
              "\n",
              "    [theme=dark] .colab-df-convert {\n",
              "      background-color: #3B4455;\n",
              "      fill: #D2E3FC;\n",
              "    }\n",
              "\n",
              "    [theme=dark] .colab-df-convert:hover {\n",
              "      background-color: #434B5C;\n",
              "      box-shadow: 0px 1px 3px 1px rgba(0, 0, 0, 0.15);\n",
              "      filter: drop-shadow(0px 1px 2px rgba(0, 0, 0, 0.3));\n",
              "      fill: #FFFFFF;\n",
              "    }\n",
              "  </style>\n",
              "\n",
              "      <script>\n",
              "        const buttonEl =\n",
              "          document.querySelector('#df-18e24c79-4194-4ec3-83f5-f2f2c8ee43f0 button.colab-df-convert');\n",
              "        buttonEl.style.display =\n",
              "          google.colab.kernel.accessAllowed ? 'block' : 'none';\n",
              "\n",
              "        async function convertToInteractive(key) {\n",
              "          const element = document.querySelector('#df-18e24c79-4194-4ec3-83f5-f2f2c8ee43f0');\n",
              "          const dataTable =\n",
              "            await google.colab.kernel.invokeFunction('convertToInteractive',\n",
              "                                                     [key], {});\n",
              "          if (!dataTable) return;\n",
              "\n",
              "          const docLinkHtml = 'Like what you see? Visit the ' +\n",
              "            '<a target=\"_blank\" href=https://colab.research.google.com/notebooks/data_table.ipynb>data table notebook</a>'\n",
              "            + ' to learn more about interactive tables.';\n",
              "          element.innerHTML = '';\n",
              "          dataTable['output_type'] = 'display_data';\n",
              "          await google.colab.output.renderOutput(dataTable, element);\n",
              "          const docLink = document.createElement('div');\n",
              "          docLink.innerHTML = docLinkHtml;\n",
              "          element.appendChild(docLink);\n",
              "        }\n",
              "      </script>\n",
              "    </div>\n",
              "  </div>\n",
              "  "
            ],
            "text/plain": [
              "                                                  text\n",
              "0    From uunet!cs.utexas.edu!usc!ucsd!ucbvax!CAE.W...\n",
              "1                        Article 23580 of rec.arts.tv:\n",
              "2    Path: microsoft!uunet!cs.utexas.edu!usc!ucsd!u...\n",
              "3                          From: russellp@CAE.WISC.EDU\n",
              "4                              Newsgroups: rec.arts.tv\n",
              "..                                                 ...\n",
              "498  *************** russellp@cae.wisc.edu ********...\n",
              "499  Russ Perry Jr   russell@uhura.cs.wisc.edu    \"...\n",
              "500  5970 Scott St   104 S Randall Ave             ...\n",
              "501  Omro WI 54963   Madison WI 53715         that ...\n",
              "502                                                NaN\n",
              "\n",
              "[503 rows x 1 columns]"
            ]
          },
          "metadata": {},
          "execution_count": 80
        }
      ]
    },
    {
      "cell_type": "code",
      "source": [
        "df['text'][0]"
      ],
      "metadata": {
        "colab": {
          "base_uri": "https://localhost:8080/",
          "height": 35
        },
        "id": "ZKyP4rSFb7Hk",
        "outputId": "96657be6-cbaa-42f8-feab-6410f8c50811"
      },
      "execution_count": 81,
      "outputs": [
        {
          "output_type": "execute_result",
          "data": {
            "application/vnd.google.colaboratory.intrinsic+json": {
              "type": "string"
            },
            "text/plain": [
              "'From uunet!cs.utexas.edu!usc!ucsd!ucbvax!CAE.WISC.EDU!russellp Wed May 23 13:07:08 PDT 1990'"
            ]
          },
          "metadata": {},
          "execution_count": 81
        }
      ]
    },
    {
      "cell_type": "code",
      "source": [
        "t = df[\"text\"].values\n"
      ],
      "metadata": {
        "id": "M8rYVEWaaHhU"
      },
      "execution_count": 82,
      "outputs": []
    },
    {
      "cell_type": "markdown",
      "source": [
        "Reading the files"
      ],
      "metadata": {
        "id": "UnK2CAI6TwpZ"
      }
    },
    {
      "cell_type": "code",
      "source": [
        "with open('/content/Humor,Hist,Media,Food/calvin.txt',encoding='utf8',errors='ignore') as f:\n",
        "    lines = f.readlines()\n",
        "\n",
        "lines"
      ],
      "metadata": {
        "id": "SSsadb-PZpqP"
      },
      "execution_count": null,
      "outputs": []
    },
    {
      "cell_type": "markdown",
      "source": [
        "Inverted Index function"
      ],
      "metadata": {
        "id": "Ao_n1JmkTnZs"
      }
    },
    {
      "cell_type": "code",
      "source": [
        "def inverted_index(data:list):\n",
        "  dict1 = {}\n",
        "  for ind,text in enumerate(data):\n",
        "    for w in text.split():\n",
        "      if w not in dict1.keys():\n",
        "        dict1[w] = [ind]\n",
        "      else:\n",
        "        dict1[w].append(ind)\n",
        "\n",
        "  return dict1\n",
        "\n",
        "\n"
      ],
      "metadata": {
        "id": "lN28B4NU0yXI"
      },
      "execution_count": 84,
      "outputs": []
    },
    {
      "cell_type": "code",
      "source": [
        "import os\n",
        "p = \"/content/Humor,Hist,Media,Food\"\n",
        "name = os.listdir(p)\n"
      ],
      "metadata": {
        "id": "QKds-qh8-9bM"
      },
      "execution_count": 85,
      "outputs": []
    },
    {
      "cell_type": "code",
      "source": [
        "name = sorted(name)"
      ],
      "metadata": {
        "id": "3983xjfaBomi"
      },
      "execution_count": 86,
      "outputs": []
    },
    {
      "cell_type": "code",
      "source": [
        "name[1]"
      ],
      "metadata": {
        "colab": {
          "base_uri": "https://localhost:8080/",
          "height": 35
        },
        "id": "Jtca5p7gT0ph",
        "outputId": "2a8770fa-3a11-42bd-d319-bdb42a8f04a9"
      },
      "execution_count": 87,
      "outputs": [
        {
          "output_type": "execute_result",
          "data": {
            "application/vnd.google.colaboratory.intrinsic+json": {
              "type": "string"
            },
            "text/plain": [
              "'a-team'"
            ]
          },
          "metadata": {},
          "execution_count": 87
        }
      ]
    },
    {
      "cell_type": "code",
      "source": [
        "doc = []\n",
        "\n",
        "for i in range(1,len(name)):\n",
        "  # print(name[i])\n",
        "  # print(i)\n",
        "  \n",
        "  # if '.' not in l[i]:\n",
        "  #   l[i]+=\".txt\"\n",
        "  try:\n",
        "    with open(\"/content/Humor,Hist,Media,Food/\"+name[i],encoding='utf8',errors='ignore') as f:\n",
        "      lines = f.readlines()\n",
        "    t1 = \" \".join(lines)\n",
        "    doc.append(t1)\n",
        "  except:\n",
        "    df = pd.read_csv(\"/content/Humor,Hist,Media,Food/\"+name[i],sep='\\t',lineterminator='\\n',names=[\"text\"])\n",
        "    df.dropna(inplace=True)\n",
        "    t = df[\"text\"].values\n",
        "    # print(t)\n",
        "    t1 = \" \".join(t)\n",
        "    doc.append(t1)\n"
      ],
      "metadata": {
        "id": "XmoKAdtkAZ2K"
      },
      "execution_count": 88,
      "outputs": []
    },
    {
      "cell_type": "code",
      "source": [
        "len(doc)"
      ],
      "metadata": {
        "colab": {
          "base_uri": "https://localhost:8080/"
        },
        "id": "8DjZj_XpU9P_",
        "outputId": "245b8159-76df-44fb-a720-0c04f57b64d4"
      },
      "execution_count": 89,
      "outputs": [
        {
          "output_type": "execute_result",
          "data": {
            "text/plain": [
              "1132"
            ]
          },
          "metadata": {},
          "execution_count": 89
        }
      ]
    },
    {
      "cell_type": "code",
      "source": [
        "df = pd.read_csv(\"/content/Humor,Hist,Media,Food/\"+name[117],sep='\\t',lineterminator='\\n',names=[\"text\"])\n"
      ],
      "metadata": {
        "id": "okff0XSXKiUV"
      },
      "execution_count": 90,
      "outputs": []
    },
    {
      "cell_type": "code",
      "source": [
        "import re\n",
        "import nltk\n",
        "import string"
      ],
      "metadata": {
        "id": "CF4KDAqS4r0S"
      },
      "execution_count": 92,
      "outputs": []
    },
    {
      "cell_type": "code",
      "source": [
        "nltk.download('stopwords')"
      ],
      "metadata": {
        "colab": {
          "base_uri": "https://localhost:8080/"
        },
        "id": "O5ya6KoS5i49",
        "outputId": "c53d88c0-1ff7-41c7-e039-7dd29638f233"
      },
      "execution_count": 93,
      "outputs": [
        {
          "output_type": "stream",
          "name": "stdout",
          "text": [
            "[nltk_data] Downloading package stopwords to /root/nltk_data...\n",
            "[nltk_data]   Package stopwords is already up-to-date!\n"
          ]
        },
        {
          "output_type": "execute_result",
          "data": {
            "text/plain": [
              "True"
            ]
          },
          "metadata": {},
          "execution_count": 93
        }
      ]
    },
    {
      "cell_type": "code",
      "source": [
        "nltk.download('punkt')"
      ],
      "metadata": {
        "colab": {
          "base_uri": "https://localhost:8080/"
        },
        "id": "N5skaMhm5pfJ",
        "outputId": "d8254225-9f3e-4bd2-c62d-9b663be0e348"
      },
      "execution_count": 94,
      "outputs": [
        {
          "output_type": "stream",
          "name": "stdout",
          "text": [
            "[nltk_data] Downloading package punkt to /root/nltk_data...\n",
            "[nltk_data]   Package punkt is already up-to-date!\n"
          ]
        },
        {
          "output_type": "execute_result",
          "data": {
            "text/plain": [
              "True"
            ]
          },
          "metadata": {},
          "execution_count": 94
        }
      ]
    },
    {
      "cell_type": "code",
      "source": [
        "from nltk.corpus import stopwords\n",
        "from nltk.tokenize import word_tokenize\n",
        "import unicodedata"
      ],
      "metadata": {
        "id": "Rzr7NdSt50qO"
      },
      "execution_count": 95,
      "outputs": []
    },
    {
      "cell_type": "markdown",
      "source": [
        "Function for removing stopwords"
      ],
      "metadata": {
        "id": "F1x1QpfaT5Zb"
      }
    },
    {
      "cell_type": "code",
      "source": [
        "def remove_stopwords(text):\n",
        "    stop_words = set(stopwords.words(\"english\"))\n",
        "    word_tokens = word_tokenize(text)\n",
        "    filtered_text = [word for word in word_tokens if word not in stop_words]\n",
        "    return \" \".join(filtered_text)"
      ],
      "metadata": {
        "id": "IrOvSZQp5_t3"
      },
      "execution_count": 96,
      "outputs": []
    },
    {
      "cell_type": "markdown",
      "source": [
        "Function for removing non ascii words"
      ],
      "metadata": {
        "id": "1cUuGQAbT87c"
      }
    },
    {
      "cell_type": "code",
      "source": [
        "def non_ascii_removal(words):\n",
        "    \"\"\"Remove non-ASCII characters from list of tokenized words\"\"\"\n",
        "    words = word_tokenize(words)\n",
        "    new_words = []\n",
        "    for word in words:\n",
        "        new_word = unicodedata.normalize('NFKD', word).encode('ascii', 'ignore').decode('utf-8', 'ignore')\n",
        "        new_words.append(new_word)\n",
        "    return \" \".join(new_words)"
      ],
      "metadata": {
        "id": "YrkWAlzk6sKs"
      },
      "execution_count": 97,
      "outputs": []
    },
    {
      "cell_type": "code",
      "source": [
        "nltk.download('averaged_perceptron_tagger')"
      ],
      "metadata": {
        "colab": {
          "base_uri": "https://localhost:8080/"
        },
        "id": "9hMI2Q6G-C1E",
        "outputId": "562ba558-544b-447c-fe2d-9acea21e2bea"
      },
      "execution_count": 98,
      "outputs": [
        {
          "output_type": "stream",
          "name": "stdout",
          "text": [
            "[nltk_data] Downloading package averaged_perceptron_tagger to\n",
            "[nltk_data]     /root/nltk_data...\n",
            "[nltk_data]   Package averaged_perceptron_tagger is already up-to-\n",
            "[nltk_data]       date!\n"
          ]
        },
        {
          "output_type": "execute_result",
          "data": {
            "text/plain": [
              "True"
            ]
          },
          "metadata": {},
          "execution_count": 98
        }
      ]
    },
    {
      "cell_type": "code",
      "source": [
        "nltk.pos_tag([\"dogs\"])"
      ],
      "metadata": {
        "colab": {
          "base_uri": "https://localhost:8080/"
        },
        "id": "mQJw_E6599DQ",
        "outputId": "776580e3-6c48-493e-fdaf-5b466edd766b"
      },
      "execution_count": 99,
      "outputs": [
        {
          "output_type": "execute_result",
          "data": {
            "text/plain": [
              "[('dogs', 'NNS')]"
            ]
          },
          "metadata": {},
          "execution_count": 99
        }
      ]
    },
    {
      "cell_type": "code",
      "source": [
        "from nltk.stem import WordNetLemmatizer\n",
        " \n",
        "lemmatizer = WordNetLemmatizer()"
      ],
      "metadata": {
        "id": "kGaO2RSZ-OKp"
      },
      "execution_count": 100,
      "outputs": []
    },
    {
      "cell_type": "code",
      "source": [
        "nltk.download('wordnet')"
      ],
      "metadata": {
        "colab": {
          "base_uri": "https://localhost:8080/"
        },
        "id": "ysiMiLNX-bwA",
        "outputId": "8f1a6f9d-1858-44d7-faa9-01706a6d4a89"
      },
      "execution_count": 101,
      "outputs": [
        {
          "output_type": "stream",
          "name": "stdout",
          "text": [
            "[nltk_data] Downloading package wordnet to /root/nltk_data...\n",
            "[nltk_data]   Package wordnet is already up-to-date!\n"
          ]
        },
        {
          "output_type": "execute_result",
          "data": {
            "text/plain": [
              "True"
            ]
          },
          "metadata": {},
          "execution_count": 101
        }
      ]
    },
    {
      "cell_type": "code",
      "source": [
        "lemmatizer.lemmatize(\"giris\", pos ='v')"
      ],
      "metadata": {
        "colab": {
          "base_uri": "https://localhost:8080/",
          "height": 35
        },
        "id": "TH9SKtSx-Tsg",
        "outputId": "bf500bf6-6627-49c0-871f-201cc0fad231"
      },
      "execution_count": 102,
      "outputs": [
        {
          "output_type": "execute_result",
          "data": {
            "application/vnd.google.colaboratory.intrinsic+json": {
              "type": "string"
            },
            "text/plain": [
              "'giris'"
            ]
          },
          "metadata": {},
          "execution_count": 102
        }
      ]
    },
    {
      "cell_type": "code",
      "source": [
        "def lemmatize_word(text):\n",
        "    word_tokens = word_tokenize(text)\n",
        "    # provide context i.e. part-of-speech\n",
        "    lemmas = [lemmatizer.lemmatize(word, pos ='v') for word in word_tokens]\n",
        "    return \" \".join(lemmas)"
      ],
      "metadata": {
        "id": "a2kLfejR6sn9"
      },
      "execution_count": 103,
      "outputs": []
    },
    {
      "cell_type": "code",
      "source": [
        "remove_stopwords('the air is big')"
      ],
      "metadata": {
        "colab": {
          "base_uri": "https://localhost:8080/",
          "height": 35
        },
        "id": "6fZU0OfB6RLU",
        "outputId": "14c83989-3c36-4328-a1fc-3a274a268c2e"
      },
      "execution_count": 104,
      "outputs": [
        {
          "output_type": "execute_result",
          "data": {
            "application/vnd.google.colaboratory.intrinsic+json": {
              "type": "string"
            },
            "text/plain": [
              "'air big'"
            ]
          },
          "metadata": {},
          "execution_count": 104
        }
      ]
    },
    {
      "cell_type": "markdown",
      "source": [
        "Preprocessing the files"
      ],
      "metadata": {
        "id": "0HrliUNgUSvb"
      }
    },
    {
      "cell_type": "code",
      "source": [
        "for i in range(len(doc)):\n",
        "  doc[i] = doc[i].lower()\n",
        "  \n",
        "  doc[i] = re.sub(r'[^\\w\\s]', ' ', doc[i])\n",
        "  \n",
        "  doc[i] = \" \".join(doc[i].split())\n",
        "  doc[i] = remove_stopwords(doc[i])\n",
        "\n"
      ],
      "metadata": {
        "id": "KLjh2-wny4Fb"
      },
      "execution_count": 105,
      "outputs": []
    },
    {
      "cell_type": "code",
      "source": [
        "doc[1]"
      ],
      "metadata": {
        "colab": {
          "base_uri": "https://localhost:8080/",
          "height": 122
        },
        "id": "OYrOEvyn-8BP",
        "outputId": "1812a0fc-277b-40f1-bc43-925de20a06a3"
      },
      "execution_count": 106,
      "outputs": [
        {
          "output_type": "execute_result",
          "data": {
            "application/vnd.google.colaboratory.intrinsic+json": {
              "type": "string"
            },
            "text/plain": [
              "'murph buscard fidonet org brian murphy subject fish called wanda apology wanted date thu 24 jun 93 03 49 47 edt tuned group knew place ask words apology offered john cleese hanging upside high window held kevin klein movie fish called wanda sure enough day two later gent australia answered thought share date thu 24 jun 93 10 55 16 est yallara cs rmit oz au s933384 dave cole subject fish called wanda apology wanted g day brian apology scene fish called wanda script otto take back camera turning 180 degrees pulls back rapidly reveal archie dangling upside window flat otto holding ankles river bed uncovered water low tide seventy feet archie offer complete utter retraction imputation totally without basis fact way fair comment motivated purely malice deeply regret distress comments may caused family people bank staring hereby undertake repeat slander time future otto hesitates ok thanks dave sure appreciate believe going try funny business girlfriend weekend knowing apology come handy grin friend lawrence massachusetts murph business card bbs lawrence massachusetts data 508 682 5329 sysadmin murph buscard fidonet org ulowell buscard murph'"
            ]
          },
          "metadata": {},
          "execution_count": 106
        }
      ]
    },
    {
      "cell_type": "code",
      "source": [
        "len(doc)"
      ],
      "metadata": {
        "colab": {
          "base_uri": "https://localhost:8080/"
        },
        "id": "F6OpklqaPaIx",
        "outputId": "12bded3a-3f76-4396-bd35-892bc6a054ea"
      },
      "execution_count": 107,
      "outputs": [
        {
          "output_type": "execute_result",
          "data": {
            "text/plain": [
              "1132"
            ]
          },
          "metadata": {},
          "execution_count": 107
        }
      ]
    },
    {
      "cell_type": "markdown",
      "source": [
        "Forming the inverted index"
      ],
      "metadata": {
        "id": "U39ssriUUXIa"
      }
    },
    {
      "cell_type": "code",
      "source": [
        "d = inverted_index(doc)"
      ],
      "metadata": {
        "id": "r7zHrgGHIoo2"
      },
      "execution_count": 108,
      "outputs": []
    },
    {
      "cell_type": "markdown",
      "source": [
        "Making the document ids unique"
      ],
      "metadata": {
        "id": "vzmSFxIKUgum"
      }
    },
    {
      "cell_type": "code",
      "source": [
        "import numpy as np\n",
        "for key,value in enumerate(d):\n",
        "  d[value] = np.unique(d[value])"
      ],
      "metadata": {
        "id": "TTF7HK1st6FT"
      },
      "execution_count": 109,
      "outputs": []
    },
    {
      "cell_type": "markdown",
      "source": [
        "making the document ids sorted"
      ],
      "metadata": {
        "id": "7AZFt8FsUnfR"
      }
    },
    {
      "cell_type": "code",
      "source": [
        "for key,value in enumerate(d):\n",
        "  sorted(d[value])\n",
        "  "
      ],
      "metadata": {
        "id": "jAPguqYaIlAI"
      },
      "execution_count": 110,
      "outputs": []
    },
    {
      "cell_type": "code",
      "source": [
        "fq ={}"
      ],
      "metadata": {
        "id": "WQV8UMiCUALZ"
      },
      "execution_count": 111,
      "outputs": []
    },
    {
      "cell_type": "markdown",
      "source": [
        "Finding the length of each posting"
      ],
      "metadata": {
        "id": "HwQ7BXZtUsps"
      }
    },
    {
      "cell_type": "code",
      "source": [
        "for key,value in enumerate(d):\n",
        "  \n",
        "  fq[value] = len(d[value])"
      ],
      "metadata": {
        "id": "NivRY4wrT8By"
      },
      "execution_count": 112,
      "outputs": []
    },
    {
      "cell_type": "code",
      "source": [
        "d['betsy']"
      ],
      "metadata": {
        "colab": {
          "base_uri": "https://localhost:8080/"
        },
        "id": "DmZV-OUMNb0c",
        "outputId": "8b2ba819-5bc0-4fa4-934e-204ad474681c"
      },
      "execution_count": 113,
      "outputs": [
        {
          "output_type": "execute_result",
          "data": {
            "text/plain": [
              "array([   0,   57,  397,  425,  449,  662,  751, 1036, 1053])"
            ]
          },
          "metadata": {},
          "execution_count": 113
        }
      ]
    },
    {
      "cell_type": "markdown",
      "source": [
        "Getting the inputs"
      ],
      "metadata": {
        "id": "IktG2UPnU008"
      }
    },
    {
      "cell_type": "code",
      "source": [
        "s1 = input(\"Input query: \")\n",
        "s2 = input(\"Input operation sequence:\")"
      ],
      "metadata": {
        "colab": {
          "base_uri": "https://localhost:8080/"
        },
        "id": "x2cfrj5Tb_WJ",
        "outputId": "c9bd2d09-4a3b-49a9-9c79-0ef3dec94398"
      },
      "execution_count": 114,
      "outputs": [
        {
          "name": "stdout",
          "output_type": "stream",
          "text": [
            "Input query: please let be\n",
            "Input operation sequence:[or, or]\n"
          ]
        }
      ]
    },
    {
      "cell_type": "code",
      "source": [
        "s1"
      ],
      "metadata": {
        "colab": {
          "base_uri": "https://localhost:8080/",
          "height": 35
        },
        "id": "o3alDPeXPZ3H",
        "outputId": "c2da2a29-d6ff-4196-982f-e886a70d8138"
      },
      "execution_count": 115,
      "outputs": [
        {
          "output_type": "execute_result",
          "data": {
            "application/vnd.google.colaboratory.intrinsic+json": {
              "type": "string"
            },
            "text/plain": [
              "'please let be'"
            ]
          },
          "metadata": {},
          "execution_count": 115
        }
      ]
    },
    {
      "cell_type": "markdown",
      "source": [
        "Preprocessing the inputs"
      ],
      "metadata": {
        "id": "crPQ_tzXU6NT"
      }
    },
    {
      "cell_type": "code",
      "source": [
        "\n",
        "s3 = \"\".join(s2.split(\" \"))"
      ],
      "metadata": {
        "id": "jKoSB3RvPckh"
      },
      "execution_count": 116,
      "outputs": []
    },
    {
      "cell_type": "code",
      "source": [
        "s3"
      ],
      "metadata": {
        "colab": {
          "base_uri": "https://localhost:8080/",
          "height": 35
        },
        "id": "joP4VCOOd6is",
        "outputId": "55a7a193-c56f-419e-c052-db088ebbfcee"
      },
      "execution_count": 117,
      "outputs": [
        {
          "output_type": "execute_result",
          "data": {
            "application/vnd.google.colaboratory.intrinsic+json": {
              "type": "string"
            },
            "text/plain": [
              "'[or,or]'"
            ]
          },
          "metadata": {},
          "execution_count": 117
        }
      ]
    },
    {
      "cell_type": "code",
      "source": [
        "if s3[0]=='[':\n",
        "  s3  = s3[1:len(s3)-1]\n",
        "s3 = s3.lower()"
      ],
      "metadata": {
        "id": "ogXdTmdYQXHz"
      },
      "execution_count": 118,
      "outputs": []
    },
    {
      "cell_type": "code",
      "source": [
        "s3"
      ],
      "metadata": {
        "colab": {
          "base_uri": "https://localhost:8080/",
          "height": 35
        },
        "id": "DFDQAfNWcMIk",
        "outputId": "52e9d820-9b8a-4c76-e6af-6a17595e2560"
      },
      "execution_count": 119,
      "outputs": [
        {
          "output_type": "execute_result",
          "data": {
            "application/vnd.google.colaboratory.intrinsic+json": {
              "type": "string"
            },
            "text/plain": [
              "'or,or'"
            ]
          },
          "metadata": {},
          "execution_count": 119
        }
      ]
    },
    {
      "cell_type": "code",
      "source": [
        "s3 = s3.split(\",\")\n",
        "s3"
      ],
      "metadata": {
        "colab": {
          "base_uri": "https://localhost:8080/"
        },
        "id": "mUbw8j_KRICY",
        "outputId": "a2d2231b-82b4-491e-aeee-2622bc1195e5"
      },
      "execution_count": 120,
      "outputs": [
        {
          "output_type": "execute_result",
          "data": {
            "text/plain": [
              "['or', 'or']"
            ]
          },
          "metadata": {},
          "execution_count": 120
        }
      ]
    },
    {
      "cell_type": "code",
      "source": [
        "s1 = s1.lower()\n",
        "s1 = re.sub(r'[^\\w\\s]', ' ', s1)\n",
        "s1 = \" \".join(s1.split())\n",
        "\n"
      ],
      "metadata": {
        "id": "lHMMKanUVG6y"
      },
      "execution_count": 121,
      "outputs": []
    },
    {
      "cell_type": "code",
      "source": [
        "s1 = remove_stopwords(s1)\n",
        "s1"
      ],
      "metadata": {
        "colab": {
          "base_uri": "https://localhost:8080/",
          "height": 35
        },
        "id": "7ZvYz9yuROKp",
        "outputId": "00311d93-d74b-4e8a-edd8-e0f8b7492d23"
      },
      "execution_count": 122,
      "outputs": [
        {
          "output_type": "execute_result",
          "data": {
            "application/vnd.google.colaboratory.intrinsic+json": {
              "type": "string"
            },
            "text/plain": [
              "'please let'"
            ]
          },
          "metadata": {},
          "execution_count": 122
        }
      ]
    },
    {
      "cell_type": "code",
      "source": [
        "s1 = s1.split()\n",
        "s1"
      ],
      "metadata": {
        "colab": {
          "base_uri": "https://localhost:8080/"
        },
        "id": "ftyNSP_0RUPu",
        "outputId": "a05842a8-a7ee-456a-beb7-491e1c1108c1"
      },
      "execution_count": 123,
      "outputs": [
        {
          "output_type": "execute_result",
          "data": {
            "text/plain": [
              "['please', 'let']"
            ]
          },
          "metadata": {},
          "execution_count": 123
        }
      ]
    },
    {
      "cell_type": "code",
      "source": [
        "s3 = s3[:len(s1)-1]"
      ],
      "metadata": {
        "id": "OxoDR6ZCuQ1B"
      },
      "execution_count": 124,
      "outputs": []
    },
    {
      "cell_type": "code",
      "source": [
        "def comp(a):\n",
        "  return a[1]"
      ],
      "metadata": {
        "id": "FmIbn-xTU0mj"
      },
      "execution_count": 125,
      "outputs": []
    },
    {
      "cell_type": "code",
      "source": [
        "dq = {}\n",
        "for q in s1:\n",
        "  dq[q] = fq[q]\n",
        "\n",
        "dq =sorted(dq,key=comp)\n",
        "dq"
      ],
      "metadata": {
        "colab": {
          "base_uri": "https://localhost:8080/"
        },
        "id": "N5wV-7_OUdc7",
        "outputId": "b94b0981-8c6a-4379-81ff-ecbcc71d9efd"
      },
      "execution_count": 126,
      "outputs": [
        {
          "output_type": "execute_result",
          "data": {
            "text/plain": [
              "['let', 'please']"
            ]
          },
          "metadata": {},
          "execution_count": 126
        }
      ]
    },
    {
      "cell_type": "code",
      "source": [
        "dq"
      ],
      "metadata": {
        "colab": {
          "base_uri": "https://localhost:8080/"
        },
        "id": "g-P_JC-TXvT1",
        "outputId": "69d08f3d-288e-4a79-b0ad-0d057295f24c"
      },
      "execution_count": 127,
      "outputs": [
        {
          "output_type": "execute_result",
          "data": {
            "text/plain": [
              "['let', 'please']"
            ]
          },
          "metadata": {},
          "execution_count": 127
        }
      ]
    },
    {
      "cell_type": "code",
      "source": [
        "s1"
      ],
      "metadata": {
        "colab": {
          "base_uri": "https://localhost:8080/"
        },
        "id": "1gUoEGwDgK2H",
        "outputId": "b21400bc-3822-481c-b21e-61ab7b478951"
      },
      "execution_count": 128,
      "outputs": [
        {
          "output_type": "execute_result",
          "data": {
            "text/plain": [
              "['please', 'let']"
            ]
          },
          "metadata": {},
          "execution_count": 128
        }
      ]
    },
    {
      "cell_type": "code",
      "source": [
        "\n",
        "dq1 = {}\n",
        "for q in dq:\n",
        "  dq1[q] = fq[q]\n",
        "dq1"
      ],
      "metadata": {
        "colab": {
          "base_uri": "https://localhost:8080/"
        },
        "id": "W7enEVPmXfjT",
        "outputId": "9409fe54-208b-44c4-b2db-e09620956fbe"
      },
      "execution_count": 129,
      "outputs": [
        {
          "output_type": "execute_result",
          "data": {
            "text/plain": [
              "{'let': 411, 'please': 264}"
            ]
          },
          "metadata": {},
          "execution_count": 129
        }
      ]
    },
    {
      "cell_type": "markdown",
      "source": [
        "Function of each operations"
      ],
      "metadata": {
        "id": "jku94QQDVCE7"
      }
    },
    {
      "cell_type": "code",
      "source": [
        "def OR(x,y):\n",
        "  a=0\n",
        "  b=0\n",
        "  r = []\n",
        "  count=0\n",
        "  while a < len(x) and b < len(y):\n",
        "    count+=1\n",
        "    if x[a] == y[b]:\n",
        "      r.append(x[a])\n",
        "      a+=1\n",
        "      b+=1\n",
        "    elif x[a] > y[b]:\n",
        "      r.append(y[b])\n",
        "      b+=1\n",
        "    else:\n",
        "      r.append(x[a])\n",
        "      a+=1\n",
        "  while a<len(x):\n",
        "    r.append(x[a])\n",
        "    a+=1\n",
        "\n",
        "  while b<len(y):\n",
        "    r.append(y[b])\n",
        "    b+=1\n",
        "\n",
        "  return len(r),count,r"
      ],
      "metadata": {
        "id": "_cn_09VKfil2"
      },
      "execution_count": 130,
      "outputs": []
    },
    {
      "cell_type": "code",
      "source": [
        "def AND(x, y):\n",
        "    a = 0\n",
        "    b = 0\n",
        "    r = []\n",
        "    count=0\n",
        "    while a < len(x) and b < len(y):\n",
        "        count+=1\n",
        "        if x[a] == y[b]:\n",
        "            r.append(x[a])\n",
        "            a += 1\n",
        "            b += 1\n",
        "        elif x[a] > y[b]:\n",
        "            b += 1\n",
        "        else:\n",
        "            a += 1\n",
        "    return len(r),count,r"
      ],
      "metadata": {
        "id": "eoiiu6ACKgrd"
      },
      "execution_count": 131,
      "outputs": []
    },
    {
      "cell_type": "code",
      "source": [
        "def NOT(x):\n",
        "    r = []\n",
        "    i = 0\n",
        "    for j in x:\n",
        "        while i < j:\n",
        "            r.append(i)\n",
        "            i+=1\n",
        "        i += 1\n",
        "        \n",
        "    while i < len(doc):\n",
        "        r.append(i)\n",
        "        i += 1\n",
        "    return r"
      ],
      "metadata": {
        "id": "9YAnV8AgPKN3"
      },
      "execution_count": 132,
      "outputs": []
    },
    {
      "cell_type": "code",
      "source": [
        "def ANDNOT(x,y):\n",
        "  temp1 = NOT(y)\n",
        "  l3,c3,temp2 = AND(x,temp1)\n",
        "  return  l3,c3,temp2\n"
      ],
      "metadata": {
        "id": "cYryRtKWTMxN"
      },
      "execution_count": 133,
      "outputs": []
    },
    {
      "cell_type": "code",
      "source": [
        "def ORNOT(x,y):\n",
        "  temp1 = NOT(y)\n",
        "  l3,c3,temp2 = OR(x,temp1)\n",
        "  return  l3,c3,temp2"
      ],
      "metadata": {
        "id": "Z7pI5SkAbZ0x"
      },
      "execution_count": 134,
      "outputs": []
    },
    {
      "cell_type": "markdown",
      "source": [
        "Performing the query"
      ],
      "metadata": {
        "id": "Io26RxaAVNir"
      }
    },
    {
      "cell_type": "code",
      "source": [
        "c=0\n",
        "l=0\n",
        "temp=d[s1[0]]\n",
        "for i in range(1,len(s1)):\n",
        "  if(s3[i-1]=='or'):\n",
        "    l1,c1,t = OR(temp,d[s1[i]])\n",
        "    # print(c1)\n",
        "    c+=c1\n",
        "    l+=l1\n",
        "    temp = t.copy()\n",
        "  elif(s3[i-1]==\"and\"):\n",
        "    l1,c1,t = AND(temp,d[s1[i]])\n",
        "    # print(c1)\n",
        "    c+=c1\n",
        "    l+=l1\n",
        "    temp = t.copy()\n",
        "  elif(s3[i-1]=='ornot'):\n",
        "    l1,c1,t = ORNOT(temp,d[s1[i]])\n",
        "    # print(c1)\n",
        "    c+=c1\n",
        "    l+=l1\n",
        "    temp = t.copy()\n",
        "  elif(s3[i-1]=='andnot'):\n",
        "    l1,c1,t = ANDNOT(temp,d[s1[i]])\n",
        "    # print(c1)\n",
        "    c+=c1\n",
        "    l+=l1\n",
        "    temp = t.copy()\n",
        "\n",
        "print(\"No. of comparisions : \" + str(c))\n",
        "print(\"No. of documents matched : \"+str(l))\n",
        "print(temp)"
      ],
      "metadata": {
        "colab": {
          "base_uri": "https://localhost:8080/"
        },
        "id": "Sz_THDgoRf0F",
        "outputId": "7aeb5041-b519-405b-e47c-012d77d42ed5"
      },
      "execution_count": 135,
      "outputs": [
        {
          "output_type": "stream",
          "name": "stdout",
          "text": [
            "No. of comparisions : 516\n",
            "No. of documents matched : 517\n",
            "[0, 3, 4, 8, 10, 15, 16, 18, 19, 22, 27, 28, 29, 30, 33, 35, 37, 39, 41, 42, 44, 45, 47, 48, 52, 53, 54, 55, 56, 57, 59, 60, 61, 62, 66, 82, 83, 87, 89, 90, 91, 92, 94, 96, 98, 99, 104, 105, 107, 111, 115, 116, 117, 118, 119, 122, 125, 126, 127, 128, 129, 130, 131, 134, 139, 144, 146, 149, 150, 153, 155, 163, 167, 172, 173, 174, 177, 179, 181, 182, 183, 185, 186, 188, 193, 194, 197, 198, 201, 202, 205, 207, 208, 212, 213, 214, 216, 217, 218, 219, 220, 221, 222, 223, 227, 231, 232, 233, 235, 238, 240, 243, 244, 245, 247, 253, 254, 255, 256, 263, 266, 267, 268, 269, 271, 272, 274, 275, 277, 281, 283, 284, 285, 286, 287, 293, 297, 298, 304, 305, 306, 307, 308, 313, 314, 315, 317, 318, 320, 323, 327, 330, 341, 342, 343, 344, 345, 346, 347, 348, 350, 352, 353, 354, 359, 360, 362, 366, 367, 369, 377, 378, 379, 390, 391, 393, 404, 409, 412, 413, 417, 418, 420, 423, 425, 427, 430, 431, 433, 436, 440, 442, 443, 444, 447, 448, 449, 450, 457, 458, 459, 460, 463, 475, 476, 478, 479, 483, 487, 491, 492, 497, 500, 504, 508, 510, 511, 512, 517, 518, 519, 520, 521, 522, 525, 526, 528, 529, 530, 536, 540, 542, 545, 547, 548, 549, 551, 554, 555, 560, 563, 564, 565, 573, 575, 577, 578, 579, 580, 581, 582, 583, 584, 588, 589, 592, 593, 594, 595, 596, 601, 603, 604, 605, 607, 608, 609, 610, 613, 614, 615, 616, 617, 618, 619, 621, 622, 623, 624, 627, 629, 634, 635, 636, 638, 639, 640, 641, 642, 643, 644, 647, 648, 651, 655, 656, 657, 659, 660, 662, 666, 668, 671, 673, 676, 678, 679, 680, 681, 684, 687, 688, 689, 690, 691, 694, 700, 701, 704, 707, 710, 713, 714, 715, 716, 717, 719, 720, 724, 725, 728, 731, 737, 742, 744, 745, 748, 749, 751, 752, 754, 755, 759, 761, 763, 766, 769, 770, 776, 777, 779, 781, 784, 785, 786, 787, 788, 790, 791, 793, 795, 800, 801, 803, 807, 808, 809, 810, 811, 812, 813, 815, 816, 819, 820, 821, 826, 827, 834, 835, 837, 838, 843, 845, 849, 850, 852, 854, 856, 857, 858, 859, 863, 864, 868, 869, 873, 877, 883, 888, 889, 890, 898, 899, 904, 905, 906, 907, 909, 910, 912, 915, 916, 918, 920, 922, 923, 924, 927, 931, 933, 936, 937, 938, 944, 945, 946, 948, 951, 955, 956, 957, 959, 960, 965, 967, 968, 971, 974, 977, 980, 981, 982, 983, 984, 985, 987, 990, 991, 992, 994, 995, 996, 997, 999, 1000, 1003, 1004, 1009, 1012, 1013, 1014, 1015, 1016, 1017, 1018, 1023, 1024, 1025, 1026, 1029, 1030, 1031, 1033, 1034, 1035, 1038, 1039, 1040, 1042, 1045, 1047, 1052, 1053, 1056, 1057, 1058, 1062, 1063, 1064, 1065, 1066, 1067, 1068, 1069, 1071, 1074, 1076, 1077, 1083, 1084, 1085, 1086, 1091, 1093, 1097, 1107, 1108, 1112, 1118, 1119, 1120, 1122, 1124, 1127, 1128, 1130]\n"
          ]
        }
      ]
    },
    {
      "cell_type": "code",
      "source": [
        ""
      ],
      "metadata": {
        "id": "5tyYXjKpWEyd"
      },
      "execution_count": 135,
      "outputs": []
    },
    {
      "cell_type": "code",
      "source": [
        "len(d['stand'])"
      ],
      "metadata": {
        "colab": {
          "base_uri": "https://localhost:8080/"
        },
        "id": "tQrheXnrqFSF",
        "outputId": "5921ece0-4852-4fba-a78d-56d6a3338101"
      },
      "execution_count": 136,
      "outputs": [
        {
          "output_type": "execute_result",
          "data": {
            "text/plain": [
              "186"
            ]
          },
          "metadata": {},
          "execution_count": 136
        }
      ]
    },
    {
      "cell_type": "code",
      "source": [
        "len(d)"
      ],
      "metadata": {
        "colab": {
          "base_uri": "https://localhost:8080/"
        },
        "id": "n6Auq2ynqXSj",
        "outputId": "c9d799d9-5659-49dd-fc54-1d40d021b877"
      },
      "execution_count": 137,
      "outputs": [
        {
          "output_type": "execute_result",
          "data": {
            "text/plain": [
              "71249"
            ]
          },
          "metadata": {},
          "execution_count": 137
        }
      ]
    },
    {
      "cell_type": "markdown",
      "source": [
        "# **Positional** **Index**"
      ],
      "metadata": {
        "id": "eokvX81QcmcX"
      }
    },
    {
      "cell_type": "code",
      "source": [
        "doc10 = []\n",
        "\n",
        "for i in range(1,len(name)):\n",
        "  \n",
        "  # if '.' not in l[i]:\n",
        "  #   l[i]+=\".txt\"\n",
        "  try:\n",
        "    with open(\"/content/Humor,Hist,Media,Food/\"+name[i],encoding='utf8',errors='ignore') as f:\n",
        "      lines = f.readlines()\n",
        "    t1 = \" \".join(lines)\n",
        "    doc10.append(t1)\n",
        "  except:\n",
        "    df = pd.read_csv(\"/content/Humor,Hist,Media,Food/\"+name[i],sep='\\t',lineterminator='\\n',names=[\"text\"])\n",
        "    df.dropna(inplace=True)\n",
        "    t = df[\"text\"].values\n",
        "    # print(t)\n",
        "    t1 = \" \".join(t)\n",
        "    doc10.append(t1)"
      ],
      "metadata": {
        "id": "F-SxHOXSFoyO"
      },
      "execution_count": 138,
      "outputs": []
    },
    {
      "cell_type": "code",
      "source": [
        "def remove_stopwords1(text):\n",
        "    stop_words = set(stopwords.words(\"english\"))\n",
        "    # word_tokens = word_tokenize(text)\n",
        "    filtered_text = [word for word in text if word not in stop_words]\n",
        "    return filtered_text"
      ],
      "metadata": {
        "id": "bZbIjiplHBXX"
      },
      "execution_count": 139,
      "outputs": []
    },
    {
      "cell_type": "markdown",
      "source": [
        "Preprocessing the document"
      ],
      "metadata": {
        "id": "C4zfL9LkVaqZ"
      }
    },
    {
      "cell_type": "code",
      "source": [
        "from string import punctuation\n",
        "for i in range(len(doc10)):\n",
        "  doc10[i] = doc10[i].lower()\n",
        "  \n",
        "  doc10[i] = re.sub(f\"[{re.escape(punctuation)}]\", \"\", doc10[i])\n",
        "  \n",
        "  doc10[i] = \" \".join(doc10[i].split())\n",
        "  \n",
        "  doc10[i] = remove_stopwords(doc10[i])\n",
        "  doc10[i] = word_tokenize(doc10[i])\n",
        "  "
      ],
      "metadata": {
        "id": "igptXV2wGQl7"
      },
      "execution_count": 140,
      "outputs": []
    },
    {
      "cell_type": "code",
      "source": [
        "len(doc10)"
      ],
      "metadata": {
        "colab": {
          "base_uri": "https://localhost:8080/"
        },
        "id": "BawF06pyZ4i4",
        "outputId": "9a235eec-5fec-4811-fd0a-1aeca7159502"
      },
      "execution_count": 141,
      "outputs": [
        {
          "output_type": "execute_result",
          "data": {
            "text/plain": [
              "1132"
            ]
          },
          "metadata": {},
          "execution_count": 141
        }
      ]
    },
    {
      "cell_type": "markdown",
      "source": [
        "Function for the positional inverted index"
      ],
      "metadata": {
        "id": "oBJcnuQUVgbe"
      }
    },
    {
      "cell_type": "code",
      "source": [
        "def positional_inverted_index(data:list):\n",
        "  dict1 = {}\n",
        "  for ind,text in enumerate(data):\n",
        "    for ind1,w in enumerate(text):\n",
        "      if w not in dict1.keys():\n",
        "        \n",
        "        d7 = [ind1]\n",
        "        dict1[w] = [[ind,d7]]\n",
        "      else:\n",
        "        count=0\n",
        "        for i in range(len(dict1[w])):\n",
        "          if dict1[w][i][0]==ind:\n",
        "            count=1\n",
        "            dict1[w][i][1].append(ind1)\n",
        "        if count==0:\n",
        "          d7 = [ind1]\n",
        "          dict1[w].append([ind,d7])\n",
        "\n",
        "  return dict1"
      ],
      "metadata": {
        "id": "qRrwdhg6AdPk"
      },
      "execution_count": 142,
      "outputs": []
    },
    {
      "cell_type": "code",
      "source": [
        "d1 = positional_inverted_index(doc10)"
      ],
      "metadata": {
        "id": "5O3mpeYGHL8d"
      },
      "execution_count": 143,
      "outputs": []
    },
    {
      "cell_type": "code",
      "source": [
        "s1 = input(\"Input query: \")\n",
        "\n",
        "s1 = re.sub(f\"[{re.escape(punctuation)}]\", \"\", s1)\n",
        "s1 = s1.lower()\n",
        "s1 = \" \".join(s1.split())\n",
        "\n",
        "s1"
      ],
      "metadata": {
        "colab": {
          "base_uri": "https://localhost:8080/",
          "height": 53
        },
        "id": "Iy4fWfJlH7Vb",
        "outputId": "bbb9b39a-4011-4a1e-b28d-fb88ee53e132"
      },
      "execution_count": 144,
      "outputs": [
        {
          "name": "stdout",
          "output_type": "stream",
          "text": [
            "Input query: please let be\n"
          ]
        },
        {
          "output_type": "execute_result",
          "data": {
            "application/vnd.google.colaboratory.intrinsic+json": {
              "type": "string"
            },
            "text/plain": [
              "'please let be'"
            ]
          },
          "metadata": {},
          "execution_count": 144
        }
      ]
    },
    {
      "cell_type": "code",
      "source": [
        "s1 = remove_stopwords(s1)\n",
        "s1 = s1.split()\n",
        "s1"
      ],
      "metadata": {
        "colab": {
          "base_uri": "https://localhost:8080/"
        },
        "id": "KRfi31yBOT4K",
        "outputId": "c9100939-6265-4a64-bca5-7f45eb6189a9"
      },
      "execution_count": 145,
      "outputs": [
        {
          "output_type": "execute_result",
          "data": {
            "text/plain": [
              "['please', 'let']"
            ]
          },
          "metadata": {},
          "execution_count": 145
        }
      ]
    },
    {
      "cell_type": "markdown",
      "source": [
        "performing the merging of postings for the query operations"
      ],
      "metadata": {
        "id": "rDNQk20OVru1"
      }
    },
    {
      "cell_type": "code",
      "source": [
        "def search(x,y,k):\n",
        "    a=0\n",
        "    b=0\n",
        "    ans=[]\n",
        "    while a<len(x) and b<len(y):\n",
        "#         print(x[a][1])\n",
        "        if x[a][0]==y[b][0]:\n",
        "            \n",
        "            try:\n",
        "                p1 = np.array(x[a][1])\n",
        "                p1 = list(p1)\n",
        "            except:\n",
        "                p1 = [x[a][1]]\n",
        "                \n",
        "            try:\n",
        "                p2 = np.array(y[b][1])\n",
        "                p2 = list(p2)\n",
        "            except:\n",
        "                p2 = [y[b][1]]\n",
        "            c=0\n",
        "#             print(p1)\n",
        "#             print(p2)\n",
        "            while c<len(p1):\n",
        "                d=0\n",
        "                l=[]\n",
        "                while d<len(p2):\n",
        "                    if abs(p1[c]-p2[d])<=k:\n",
        "#                         print(p2[d])\n",
        "                        l.append(p2[d])\n",
        "                    elif p2[d]>p1[c]:\n",
        "                        break\n",
        "                    d+=1\n",
        "                while (len(l)!=0 and abs(l[0]-p1[c]>k)):\n",
        "                    l.pop(0)\n",
        "#                 print(l)\n",
        "#                 print(p1[c])\n",
        "                for j in range(len(l)):\n",
        "                    count=0\n",
        "                    for i in range(len(ans)):\n",
        "                        if(ans[i][0]==x[a][0]):\n",
        "                            ans[i][1].append(p1[c])\n",
        "                            ans[i][1].append(l[j])\n",
        "                            count=1\n",
        "                            break\n",
        "                    if count==0:\n",
        "                        ans.append([x[a][0],[p1[c],l[j]]])\n",
        "                c+=1\n",
        "            a+=1\n",
        "            b+=1\n",
        "#             print(\"ans\")\n",
        "#             print(ans)\n",
        "        elif x[a][0]<y[b][0]:\n",
        "            a+=1\n",
        "        else:\n",
        "            b+=1\n",
        "                                        \n",
        "    for i in range(len(ans)):\n",
        "        ans[i][1] = np.unique(ans[i][1])\n",
        "    return ans\n",
        "        "
      ],
      "metadata": {
        "id": "ekSNeJaaOf0T"
      },
      "execution_count": 146,
      "outputs": []
    },
    {
      "cell_type": "markdown",
      "source": [
        "Performing the query"
      ],
      "metadata": {
        "id": "BuPLxdtaV4-1"
      }
    },
    {
      "cell_type": "code",
      "source": [
        "\n",
        "temp = d1[s1[0]]\n",
        "for j in range(1,len(s1)):\n",
        "    ans1 = search(temp,d1[s1[j]],j)\n",
        "\n",
        "    print(s1)\n",
        "    \n",
        "    temp = ans1\n",
        "        \n",
        "\n",
        "    \n",
        "temp"
      ],
      "metadata": {
        "colab": {
          "base_uri": "https://localhost:8080/"
        },
        "id": "zNmuti-W_wXS",
        "outputId": "c9826a74-c06f-44ad-98c6-df98ec34c162"
      },
      "execution_count": 147,
      "outputs": [
        {
          "output_type": "stream",
          "name": "stdout",
          "text": [
            "['please', 'let']\n"
          ]
        },
        {
          "output_type": "execute_result",
          "data": {
            "text/plain": [
              "[[0, array([40, 41])],\n",
              " [8, array([550, 551])],\n",
              " [57, array([40, 41])],\n",
              " [128, array([2053, 2054])],\n",
              " [188, array([304, 305])],\n",
              " [344, array([1892, 1893])],\n",
              " [1035, array([2319, 2320])]]"
            ]
          },
          "metadata": {},
          "execution_count": 147
        }
      ]
    },
    {
      "cell_type": "markdown",
      "source": [
        "The documents name"
      ],
      "metadata": {
        "id": "Btc2RkuQV8q1"
      }
    },
    {
      "cell_type": "code",
      "source": [
        "for i in range(len(temp)):\n",
        "  # print(temp[i][0])\n",
        "  print(name[temp[i][0]])\n",
        "  "
      ],
      "metadata": {
        "colab": {
          "base_uri": "https://localhost:8080/"
        },
        "id": "aqKkfOUWDPQb",
        "outputId": "aafdb90e-b26c-411a-8156-f38e15daf14a"
      },
      "execution_count": 148,
      "outputs": [
        {
          "output_type": "stream",
          "name": "stdout",
          "text": [
            "1st_aid.txt\n",
            "acne1.txt\n",
            "arthriti.txt\n",
            "bnb_quot.txt\n",
            "carowner.txt\n",
            "epi_.txt\n",
            "top10st1.txt\n"
          ]
        }
      ]
    },
    {
      "cell_type": "markdown",
      "source": [
        "No of documents retrieved"
      ],
      "metadata": {
        "id": "7htPJ0_QV_dv"
      }
    },
    {
      "cell_type": "code",
      "source": [
        "print(\"No. of documents : \"+ str(len(temp)))"
      ],
      "metadata": {
        "colab": {
          "base_uri": "https://localhost:8080/"
        },
        "id": "dzVJeX5vbx3r",
        "outputId": "4dc675c0-50c9-47ff-bb56-9faab8c51bfc"
      },
      "execution_count": 149,
      "outputs": [
        {
          "output_type": "stream",
          "name": "stdout",
          "text": [
            "No. of documents : 7\n"
          ]
        }
      ]
    },
    {
      "cell_type": "code",
      "source": [
        "name[8]"
      ],
      "metadata": {
        "colab": {
          "base_uri": "https://localhost:8080/",
          "height": 35
        },
        "id": "joBX7gNJZRBL",
        "outputId": "932d0ca0-2fe6-4e32-d51f-358f615b3e7e"
      },
      "execution_count": 150,
      "outputs": [
        {
          "output_type": "execute_result",
          "data": {
            "application/vnd.google.colaboratory.intrinsic+json": {
              "type": "string"
            },
            "text/plain": [
              "'acne1.txt'"
            ]
          },
          "metadata": {},
          "execution_count": 150
        }
      ]
    },
    {
      "cell_type": "code",
      "source": [
        "len(name)"
      ],
      "metadata": {
        "colab": {
          "base_uri": "https://localhost:8080/"
        },
        "id": "MViMbifyD0NT",
        "outputId": "136c5064-7c9e-4236-e57e-45a8e213b2ba"
      },
      "execution_count": 151,
      "outputs": [
        {
          "output_type": "execute_result",
          "data": {
            "text/plain": [
              "1133"
            ]
          },
          "metadata": {},
          "execution_count": 151
        }
      ]
    }
  ]
}